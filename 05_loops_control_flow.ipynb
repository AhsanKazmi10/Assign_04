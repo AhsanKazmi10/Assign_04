{
  "nbformat": 4,
  "nbformat_minor": 0,
  "metadata": {
    "colab": {
      "provenance": [],
      "authorship_tag": "ABX9TyPUQAO2+gIlICqoPy4Pbami",
      "include_colab_link": true
    },
    "kernelspec": {
      "name": "python3",
      "display_name": "Python 3"
    },
    "language_info": {
      "name": "python"
    }
  },
  "cells": [
    {
      "cell_type": "markdown",
      "metadata": {
        "id": "view-in-github",
        "colab_type": "text"
      },
      "source": [
        "<a href=\"https://colab.research.google.com/github/AhsanKazmi10/Assign_04/blob/main/05_loops_control_flow.ipynb\" target=\"_parent\"><img src=\"https://colab.research.google.com/assets/colab-badge.svg\" alt=\"Open In Colab\"/></a>"
      ]
    },
    {
      "cell_type": "code",
      "execution_count": 2,
      "metadata": {
        "colab": {
          "base_uri": "https://localhost:8080/"
        },
        "id": "DCCLTCiD8zgv",
        "outputId": "d9421c41-311f-4079-d698-3cf493597738"
      },
      "outputs": [
        {
          "output_type": "stream",
          "name": "stdout",
          "text": [
            "00_guess_my_number\n",
            "I'm thinking of a number between 1 and 100\n",
            "Enter a guess:8\n",
            "Your guess is too low.\n",
            "Enter a guess:66\n",
            "Your guess is too low.\n",
            "Enter a guess:99\n",
            "Your guess is too high.\n",
            "Enter a guess:85\n",
            "Your guess is too high.\n",
            "Enter a guess:80\n",
            "Your guess is too high.\n",
            "Enter a guess:70\n",
            "Your guess is too low.\n",
            "Enter a guess:75\n",
            "Your guess is too high.\n",
            "Enter a guess:71\n",
            "Your guess is too low.\n",
            "Enter a guess:72\n",
            "Congratulation! the number was 72\n"
          ]
        }
      ],
      "source": [
        "import random\n",
        "print(\"00_guess_my_number\")\n",
        "def main ():\n",
        "  secret_number = random.randint(1,100)\n",
        "  print(\"I'm thinking of a number between 1 and 100\")\n",
        "\n",
        "  guess = int(input(\"Enter a guess:\"))\n",
        "\n",
        "  while guess != secret_number:\n",
        "    if guess < secret_number:\n",
        "      print(\"Your guess is too low.\")\n",
        "    else:\n",
        "      print(\"Your guess is too high.\")\n",
        "    guess = int(input(\"Enter a guess:\"))\n",
        "\n",
        "  print(f\"Congratulation! the number was {secret_number}\")\n",
        "\n",
        "if __name__ == \"__main__\":\n",
        "  main()\n"
      ]
    },
    {
      "cell_type": "code",
      "source": [
        "print(\"01_fibonacci\")\n",
        "\n",
        "max_value = 10000\n",
        "\n",
        "def main():\n",
        "  a,b = 0,1\n",
        "  print(a,b, end = \" \")\n",
        "\n",
        "  while True:\n",
        "    c = a+b\n",
        "    if c>= max_value:\n",
        "      break\n",
        "    print(c, end=\" \")\n",
        "    a,b = b,c\n",
        "\n",
        "if __name__ == \"__main__\":\n",
        "  main()"
      ],
      "metadata": {
        "colab": {
          "base_uri": "https://localhost:8080/"
        },
        "id": "Fcew7Yjm_r1t",
        "outputId": "a743a993-44a1-4290-8249-4c12eabee495"
      },
      "execution_count": 6,
      "outputs": [
        {
          "output_type": "stream",
          "name": "stdout",
          "text": [
            "01_fibonacci\n",
            "0 1 1 2 3 5 8 13 21 34 55 89 144 233 377 610 987 1597 2584 4181 6765 "
          ]
        }
      ]
    },
    {
      "cell_type": "code",
      "source": [
        "print(\"02_print_events\")\n",
        "\n",
        "def main():\n",
        "  for i in range(20):\n",
        "    print(i*2)\n",
        "\n",
        "if __name__ == \"__main__\":\n",
        "  main()"
      ],
      "metadata": {
        "colab": {
          "base_uri": "https://localhost:8080/"
        },
        "id": "vFaRCUx5CUTF",
        "outputId": "dc3dc5ff-b5cb-46c9-b4a3-ed6afeb710ba"
      },
      "execution_count": 8,
      "outputs": [
        {
          "output_type": "stream",
          "name": "stdout",
          "text": [
            "02_print_events\n",
            "0\n",
            "2\n",
            "4\n",
            "6\n",
            "8\n",
            "10\n",
            "12\n",
            "14\n",
            "16\n",
            "18\n",
            "20\n",
            "22\n",
            "24\n",
            "26\n",
            "28\n",
            "30\n",
            "32\n",
            "34\n",
            "36\n",
            "38\n"
          ]
        }
      ]
    },
    {
      "cell_type": "code",
      "source": [
        "print(\"03_wholesome_machine\")\n",
        "\n",
        "correct_affermation = \"I am capable of doing anythink.I put my mind too\"\n",
        "\n",
        "def main():\n",
        "  print(\"Welcome to the wholesome Machine\")\n",
        "  while True:\n",
        "    user_input = input(\"please type the following affermation:\" + correct_affermation)\n",
        "    if user_input == correct_affermation:\n",
        "      print(\"That\\'s right!\")\n",
        "      break\n",
        "    else:\n",
        "      print(\"Hmm That was not the affermation. Please Try Again!\")\n",
        "\n",
        "if __name__ == \"__main__\":\n",
        "  main()"
      ],
      "metadata": {
        "colab": {
          "base_uri": "https://localhost:8080/"
        },
        "id": "2Xd07zipDCSc",
        "outputId": "299e0604-20c8-47c1-aed8-d8ce2684c2fa"
      },
      "execution_count": 11,
      "outputs": [
        {
          "output_type": "stream",
          "name": "stdout",
          "text": [
            "03_wholesome_machine\n",
            "Welcome to the wholesome Machine\n",
            "please type the following affermation:I am capable of doing anythink.I put my mind tooI am capable of doing anythink.I put my mind to\n",
            "Hmm That was not the affermation. Please Try Again!\n",
            "please type the following affermation:I am capable of doing anythink.I put my mind tooI am capable of doing anythink.I put my mind too\n",
            "That's right!\n"
          ]
        }
      ]
    },
    {
      "cell_type": "code",
      "source": [
        "print(\"04_liftoff\")\n",
        "\n",
        "def main():\n",
        "  for i in range(10,0,-1):\n",
        "    print(i)\n",
        "  print(\"Liftoff!\")\n",
        "\n",
        "if __name__ == \"__main__\":\n",
        "  main()"
      ],
      "metadata": {
        "colab": {
          "base_uri": "https://localhost:8080/"
        },
        "id": "8txLz8JkJAkQ",
        "outputId": "4ddb6a1c-eda5-4607-b327-5936c356f09c"
      },
      "execution_count": 12,
      "outputs": [
        {
          "output_type": "stream",
          "name": "stdout",
          "text": [
            "04_liftoff\n",
            "10\n",
            "9\n",
            "8\n",
            "7\n",
            "6\n",
            "5\n",
            "4\n",
            "3\n",
            "2\n",
            "1\n",
            "Liftoff!\n"
          ]
        }
      ]
    },
    {
      "cell_type": "code",
      "source": [
        "print(\"05_double_it\")\n",
        "def main():\n",
        "  user_value = int(input(\"Enter a number:\"))\n",
        "  while user_value < 100:\n",
        "    user_value *= 2\n",
        "    print(user_value)\n",
        "\n",
        "if __name__ == \"__main__\":\n",
        "  main()"
      ],
      "metadata": {
        "colab": {
          "base_uri": "https://localhost:8080/"
        },
        "id": "lRN2ak0GJfn4",
        "outputId": "eaaf44ea-6af2-4a31-8a2a-7177aa28f2d4"
      },
      "execution_count": 15,
      "outputs": [
        {
          "output_type": "stream",
          "name": "stdout",
          "text": [
            "05_double_it\n",
            "Enter a number:5\n",
            "10\n",
            "20\n",
            "40\n",
            "80\n",
            "160\n"
          ]
        }
      ]
    }
  ]
}