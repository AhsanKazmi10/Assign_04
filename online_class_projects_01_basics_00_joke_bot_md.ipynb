{
  "nbformat": 4,
  "nbformat_minor": 0,
  "metadata": {
    "colab": {
      "provenance": [],
      "authorship_tag": "ABX9TyM7vxzJ9F/GBkHNiUuO7d0v",
      "include_colab_link": true
    },
    "kernelspec": {
      "name": "python3",
      "display_name": "Python 3"
    },
    "language_info": {
      "name": "python"
    }
  },
  "cells": [
    {
      "cell_type": "markdown",
      "metadata": {
        "id": "view-in-github",
        "colab_type": "text"
      },
      "source": [
        "<a href=\"https://colab.research.google.com/github/AhsanKazmi10/Assign_04/blob/main/online_class_projects_01_basics_00_joke_bot_md.ipynb\" target=\"_parent\"><img src=\"https://colab.research.google.com/assets/colab-badge.svg\" alt=\"Open In Colab\"/></a>"
      ]
    },
    {
      "cell_type": "code",
      "execution_count": 3,
      "metadata": {
        "colab": {
          "base_uri": "https://localhost:8080/"
        },
        "id": "GJuTGvgqm_TS",
        "outputId": "1f2d43ea-e813-4b1d-b3b9-373a7749c859"
      },
      "outputs": [
        {
          "output_type": "stream",
          "name": "stdout",
          "text": [
            "00_joke_bot\n",
            "what do you want? joke\n",
            "why don't skeletons fight each other? \n",
            " Beacuse they don't have the guts!\n"
          ]
        }
      ],
      "source": [
        "print(\"00_joke_bot\")\n",
        "PROMPT: str = \"what do you want? \"\n",
        "JOKE:str = \"why don't skeletons fight each other? \\n Beacuse they don't have the guts!\"\n",
        "SORRY:str = \"Sorry I only tell jokes. \"\n",
        "\n",
        "def main():\n",
        "  user_input = input(PROMPT)\n",
        "  user_input = user_input.strip().lower()\n",
        "\n",
        "  if \"joke\" in user_input:\n",
        "    print(JOKE)\n",
        "  else:\n",
        "    print(SORRY)\n",
        "\n",
        "if __name__ == \"__main__\":\n",
        "  main()\n"
      ]
    },
    {
      "cell_type": "code",
      "source": [
        "print(\"01_double_it\")\n",
        "def main():\n",
        "  user_value = int(input(\"Enter a number:\"))\n",
        "  while user_value < 100:\n",
        "    user_value *= 2\n",
        "    print(user_value)\n",
        "\n",
        "if __name__ == \"__main__\":\n",
        "  main()\n",
        ""
      ],
      "metadata": {
        "colab": {
          "base_uri": "https://localhost:8080/"
        },
        "id": "b8W2aUrPpL6P",
        "outputId": "79fe9891-5e41-43dd-dc79-759eeda6d865"
      },
      "execution_count": 4,
      "outputs": [
        {
          "output_type": "stream",
          "name": "stdout",
          "text": [
            "01_double_it\n",
            "Enter a number:4\n",
            "8\n",
            "16\n",
            "32\n",
            "64\n",
            "128\n"
          ]
        }
      ]
    },
    {
      "cell_type": "code",
      "source": [
        "print(\"02_liftoff\")\n",
        "\n",
        "def main():\n",
        "  for i in range(10,0,-1):\n",
        "    print(i)\n",
        "  print(\"Liftoff!\")\n",
        "\n",
        "if __name__ == \"__main__\":\n",
        "  main()\n",
        ""
      ],
      "metadata": {
        "colab": {
          "base_uri": "https://localhost:8080/"
        },
        "id": "-J4tDcoXpUOZ",
        "outputId": "9b88386a-4249-4fb8-e232-2becbc9a719f"
      },
      "execution_count": 5,
      "outputs": [
        {
          "output_type": "stream",
          "name": "stdout",
          "text": [
            "02_liftoff\n",
            "10\n",
            "9\n",
            "8\n",
            "7\n",
            "6\n",
            "5\n",
            "4\n",
            "3\n",
            "2\n",
            "1\n",
            "Liftoff!\n"
          ]
        }
      ]
    },
    {
      "cell_type": "code",
      "source": [
        "import random\n",
        "print(\"03_guess_my_number\")\n",
        "def main ():\n",
        "  secret_number = random.randint(1,100)\n",
        "  print(\"I'm thinking of a number between 1 and 100\")\n",
        "\n",
        "  guess = int(input(\"Enter a guess:\"))\n",
        "\n",
        "  while guess != secret_number:\n",
        "    if guess < secret_number:\n",
        "      print(\"Your guess is too low.\")\n",
        "    else:\n",
        "      print(\"Your guess is too high.\")\n",
        "    guess = int(input(\"Enter a guess:\"))\n",
        "\n",
        "  print(f\"Congratulation! the number was {secret_number}\")\n",
        "\n",
        "if __name__ == \"__main__\":\n",
        "  main()"
      ],
      "metadata": {
        "colab": {
          "base_uri": "https://localhost:8080/"
        },
        "id": "HUJfkUpHpcZV",
        "outputId": "c8316526-429c-44ed-98fe-79e8d33d80d1"
      },
      "execution_count": 6,
      "outputs": [
        {
          "output_type": "stream",
          "name": "stdout",
          "text": [
            "03_guess_my_number\n",
            "I'm thinking of a number between 1 and 100\n",
            "Enter a guess:8\n",
            "Your guess is too low.\n",
            "Enter a guess:88\n",
            "Your guess is too high.\n",
            "Enter a guess:70\n",
            "Your guess is too high.\n",
            "Enter a guess:65\n",
            "Your guess is too high.\n",
            "Enter a guess:60\n",
            "Your guess is too high.\n",
            "Enter a guess:50\n",
            "Your guess is too high.\n",
            "Enter a guess:40\n",
            "Your guess is too high.\n",
            "Enter a guess:20\n",
            "Your guess is too low.\n",
            "Enter a guess:25\n",
            "Your guess is too high.\n",
            "Enter a guess:22\n",
            "Your guess is too low.\n",
            "Enter a guess:23\n",
            "Your guess is too low.\n",
            "Enter a guess:24\n",
            "Congratulation! the number was 24\n"
          ]
        }
      ]
    },
    {
      "cell_type": "code",
      "source": [
        "import random\n",
        "print(\"04_random_numbers\")\n",
        "\n",
        "def main():\n",
        "  for _ in range(10):\n",
        "   print(random.randint(1,100),end = \" \")\n",
        "\n",
        "if __name__ == \"__main__\":\n",
        "  main()"
      ],
      "metadata": {
        "colab": {
          "base_uri": "https://localhost:8080/"
        },
        "id": "iF067xzGp7rr",
        "outputId": "59941d7c-374c-460b-e638-49fe1c827c1f"
      },
      "execution_count": 11,
      "outputs": [
        {
          "output_type": "stream",
          "name": "stdout",
          "text": [
            "04_random_numbers\n",
            "85 86 92 88 15 38 91 56 97 29 "
          ]
        }
      ]
    }
  ]
}