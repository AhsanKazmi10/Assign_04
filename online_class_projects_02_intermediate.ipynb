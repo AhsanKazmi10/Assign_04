{
  "nbformat": 4,
  "nbformat_minor": 0,
  "metadata": {
    "colab": {
      "provenance": [],
      "authorship_tag": "ABX9TyM4QHRlZoIHe891ztkKBqa8",
      "include_colab_link": true
    },
    "kernelspec": {
      "name": "python3",
      "display_name": "Python 3"
    },
    "language_info": {
      "name": "python"
    }
  },
  "cells": [
    {
      "cell_type": "markdown",
      "metadata": {
        "id": "view-in-github",
        "colab_type": "text"
      },
      "source": [
        "<a href=\"https://colab.research.google.com/github/AhsanKazmi10/Assign_04/blob/main/02_intermediate.ipynb\" target=\"_parent\"><img src=\"https://colab.research.google.com/assets/colab-badge.svg\" alt=\"Open In Colab\"/></a>"
      ]
    },
    {
      "cell_type": "code",
      "execution_count": null,
      "metadata": {
        "colab": {
          "base_uri": "https://localhost:8080/"
        },
        "id": "aUDO5hZgfJg0",
        "outputId": "35ae29e8-92ae-49ee-a889-4c54925c8471"
      },
      "outputs": [
        {
          "output_type": "stream",
          "name": "stdout",
          "text": [
            "High Low Game\n",
            "Welcome to the High Low Game\n",
            "*******************************\n",
            "Round 1\n",
            "Your number is 30\n",
            "Do you think your number is higher or lower than the computer's number? higher\n",
            "That's incorrect. The computer's number was 91\n",
            "Your score is now 0\n",
            "\n",
            "Round 2\n",
            "Your number is 22\n",
            "Do you think your number is higher or lower than the computer's number? higher\n",
            "You were right! The computer's number was 14\n",
            "Your score is now 1\n",
            "\n",
            "Round 3\n",
            "Your number is 64\n",
            "Do you think your number is higher or lower than the computer's number? lower\n",
            "You were right! The computer's number was 66\n",
            "Your score is now 2\n",
            "\n",
            "Round 4\n",
            "Your number is 70\n",
            "Do you think your number is higher or lower than the computer's number? lower\n",
            "That's incorrect. The computer's number was 70\n",
            "Your score is now 2\n",
            "\n",
            "Round 5\n",
            "Your number is 5\n",
            "Do you think your number is higher or lower than the computer's number? higher\n",
            "That's incorrect. The computer's number was 34\n",
            "Your score is now 2\n",
            "\n",
            "Thanks for playing\n",
            "Your final score was 2\n"
          ]
        }
      ],
      "source": [
        "import random\n",
        "\n",
        "print(\"High Low Game\")\n",
        "\n",
        "rounds = 5\n",
        "\n",
        "def main():\n",
        "    print(\"Welcome to the High Low Game\")\n",
        "    print(\"*******************************\")\n",
        "\n",
        "    your_score = 0\n",
        "\n",
        "    for i in range(rounds):\n",
        "        print(\"Round\", i + 1)\n",
        "\n",
        "        computer_number: int = random.randint(1, 100)\n",
        "        your_number: int = random.randint(1, 100)\n",
        "        print(\"Your number is\", your_number)\n",
        "\n",
        "        choice: str = input(\"Do you think your number is higher or lower than the computer's number? \").lower()\n",
        "\n",
        "        higher_and_correct: bool = choice == \"higher\" and your_number > computer_number\n",
        "        lower_and_correct: bool = choice == \"lower\" and your_number < computer_number\n",
        "\n",
        "        if higher_and_correct or lower_and_correct:\n",
        "            print(f\"You were right! The computer's number was {computer_number}\")\n",
        "            your_score += 1\n",
        "        else:\n",
        "            print(f\"That's incorrect. The computer's number was {computer_number}\")\n",
        "\n",
        "        print(\"Your score is now\", your_score)\n",
        "        print()\n",
        "\n",
        "    print(\"Thanks for playing\")\n",
        "    print(\"Your final score was\", your_score)\n",
        "\n",
        "if __name__ == \"__main__\":\n",
        "    main()\n"
      ]
    },
    {
      "cell_type": "code",
      "source": [
        "print(\"Planetary Weight Calculator\")\n",
        "\n",
        "def main():\n",
        "  print(\"Welcome to the Planetary Weight Calculator\")\n",
        "  print(\"*******************************************\")\n",
        "\n",
        "earth_weight = float(input(\"Enter your weight on Earth: \"))\n",
        "\n",
        "gravity_ratios = {\n",
        "    \"Mercury\": 0.38,\n",
        "    \"Venus\": 0.91,\n",
        "    \"Mars\": 0.38,\n",
        "    \"Jupiter\": 2.34,\n",
        "    \"Saturn\": 1.06,\n",
        "    \"Uranus\": 0.92,\n",
        "    \"Neptune\": 1.19\n",
        "}\n",
        "print(\"\\n select a planet\")\n",
        "for planet in gravity_ratios:\n",
        "    print(f'- {planet}')\n",
        "\n",
        "planet_choice = input(\"Enter the name of a planet: \").title()\n",
        "\n",
        "if planet in gravity_ratios:\n",
        "   new_weight = earth_weight * gravity_ratios[planet_choice]\n",
        "   print(f\"Your weight on {planet_choice} is {new_weight:.2f} kg\")\n",
        "else:\n",
        "  print(\"Invalid planet choice\")\n",
        "\n",
        "if __name__ == \"__main__\":\n",
        "  main()\n"
      ],
      "metadata": {
        "colab": {
          "base_uri": "https://localhost:8080/"
        },
        "id": "iaqxlYUtl3sb",
        "outputId": "54a452a5-5aaa-4aaf-e3da-80a4da9311a8"
      },
      "execution_count": null,
      "outputs": [
        {
          "output_type": "stream",
          "name": "stdout",
          "text": [
            "Planetary Weight Calculator\n",
            "Enter your weight on Earth: 75\n",
            "\n",
            " select a planet\n",
            "- Mercury\n",
            "- Venus\n",
            "- Mars\n",
            "- Jupiter\n",
            "- Saturn\n",
            "- Uranus\n",
            "- Neptune\n",
            "Enter the name of a planet: jupiter\n",
            "Your weight on Jupiter is 175.50 kg\n",
            "Welcome to the Planetary Weight Calculator\n",
            "*******************************************\n"
          ]
        }
      ]
    },
    {
      "cell_type": "code",
      "source": [
        "print(\"Lists and Dicts\")\n",
        "\n",
        "my_list = [\"apple\", \"mango\", \"orange\", \"pear\", \"peach\"]\n",
        "\n",
        "def access_element(my_list, index):\n",
        "    \"\"\"Returns the element at the specified index, or an error message if out of range.\"\"\"\n",
        "    if 0 <= index < len(my_list):\n",
        "        return f'Element at index {index}: {my_list[index]}'\n",
        "    return \"Error: Index out of range\"\n",
        "\n",
        "def modify_element(my_list, index, new_value):\n",
        "    \"\"\"Modifies the element at the specified index with the new value.\"\"\"\n",
        "    if 0 <= index < len(my_list):\n",
        "        old_value = my_list[index]\n",
        "        my_list[index] = new_value\n",
        "        return f'Element at index {index} modified from {old_value} to {new_value}'\n",
        "    return \"Error: Index out of range\"\n",
        "\n",
        "def slice_list(my_list, start, end):\n",
        "    \"\"\"Returns a new list containing the sliced elements.\"\"\"\n",
        "    if 0 <= start < len(my_list) and 0 <= end <= len(my_list):\n",
        "        return f'Sliced list: {my_list[start:end]}'\n",
        "    return \"Error: Invalid start or end index\"\n",
        "\n",
        "def list_game():\n",
        "    print(\"\\nWelcome to the List Manipulation Game!\")\n",
        "\n",
        "    my_list = [\"apple\", \"mango\", \"orange\", \"pear\", \"peach\"]\n",
        "\n",
        "    while True:\n",
        "        print(\"\\nCurrent list:\", my_list)\n",
        "        print(\"\\nSelect an operation:\")\n",
        "        print(\"1. Access Element\")\n",
        "        print(\"2. Modify Element\")\n",
        "        print(\"3. Slice List\")\n",
        "        print(\"4. Quit\")\n",
        "\n",
        "        choice = input(\"Enter your choice (1-4): \")\n",
        "\n",
        "        if choice == \"1\":\n",
        "            index = int(input(\"Enter the index of the element you want to access: \"))\n",
        "            print(access_element(my_list, index))\n",
        "        elif choice == \"2\":\n",
        "            index = int(input(\"Enter the index of the element you want to modify: \"))\n",
        "            new_value = input(\"Enter the new value: \")\n",
        "            print(modify_element(my_list, index, new_value))\n",
        "        elif choice == \"3\":\n",
        "            start = int(input(\"Enter the start index: \"))\n",
        "            end = int(input(\"Enter the end index: \"))\n",
        "            print(slice_list(my_list, start, end))\n",
        "        elif choice == \"4\":\n",
        "            print(\"Thanks for playing!\")\n",
        "            break\n",
        "        else:\n",
        "            print(\"Invalid choice! Please enter a number from 1 to 4.\")\n",
        "\n",
        "if __name__ == \"__main__\":\n",
        "    list_game()\n",
        "\n"
      ],
      "metadata": {
        "colab": {
          "base_uri": "https://localhost:8080/"
        },
        "id": "W4TbDmOip7Vt",
        "outputId": "4afca7b3-4137-4546-efb8-a4295ac6252b"
      },
      "execution_count": null,
      "outputs": [
        {
          "output_type": "stream",
          "name": "stdout",
          "text": [
            "Lists and Dicts\n",
            "\n",
            "Welcome to the List Manipulation Game!\n",
            "\n",
            "Current list: ['apple', 'mango', 'orange', 'pear', 'peach']\n",
            "\n",
            "Select an operation:\n",
            "1. Access Element\n",
            "2. Modify Element\n",
            "3. Slice List\n",
            "4. Quit\n",
            "Enter your choice (1-4): 2\n",
            "Enter the index of the element you want to modify: 1\n",
            "Enter the new value: 2\n",
            "Element at index 1 modified from mango to 2\n",
            "\n",
            "Current list: ['apple', '2', 'orange', 'pear', 'peach']\n",
            "\n",
            "Select an operation:\n",
            "1. Access Element\n",
            "2. Modify Element\n",
            "3. Slice List\n",
            "4. Quit\n",
            "Enter your choice (1-4): 2\n",
            "Enter the index of the element you want to modify: 2\n",
            "Enter the new value: helw\n",
            "Element at index 2 modified from orange to helw\n",
            "\n",
            "Current list: ['apple', '2', 'helw', 'pear', 'peach']\n",
            "\n",
            "Select an operation:\n",
            "1. Access Element\n",
            "2. Modify Element\n",
            "3. Slice List\n",
            "4. Quit\n",
            "Enter your choice (1-4): 4\n",
            "Thanks for playing!\n"
          ]
        }
      ]
    },
    {
      "cell_type": "markdown",
      "source": [],
      "metadata": {
        "id": "CsmdeHvAfZGc"
      }
    }
  ]
}
