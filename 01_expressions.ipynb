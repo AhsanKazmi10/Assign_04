{
  "nbformat": 4,
  "nbformat_minor": 0,
  "metadata": {
    "colab": {
      "provenance": [],
      "authorship_tag": "ABX9TyNYo0mDy3SnqLEjtcO5kTn8",
      "include_colab_link": true
    },
    "kernelspec": {
      "name": "python3",
      "display_name": "Python 3"
    },
    "language_info": {
      "name": "python"
    }
  },
  "cells": [
    {
      "cell_type": "markdown",
      "metadata": {
        "id": "view-in-github",
        "colab_type": "text"
      },
      "source": [
        "<a href=\"https://colab.research.google.com/github/AhsanKazmi10/Assign_04/blob/main/01_expressions.ipynb\" target=\"_parent\"><img src=\"https://colab.research.google.com/assets/colab-badge.svg\" alt=\"Open In Colab\"/></a>"
      ]
    },
    {
      "cell_type": "code",
      "execution_count": 3,
      "metadata": {
        "colab": {
          "base_uri": "https://localhost:8080/"
        },
        "id": "p7dVMlEEiLWF",
        "outputId": "e82e0282-1349-47fa-89a0-a680771f00c8"
      },
      "outputs": [
        {
          "output_type": "stream",
          "name": "stdout",
          "text": [
            "01_dicesimulator\n",
            "die1 in main() start as:10\n",
            "total of two dies: 4\n",
            "total of two dies: 7\n",
            "total of two dies: 7\n",
            "die1 in main() end as :10\n"
          ]
        }
      ],
      "source": [
        "print(\"01_dicesimulator\")\n",
        "def roll_dice():\n",
        "  die1:int = random.randint(1,6)\n",
        "  die2:int = random.randint(1,6)\n",
        "  total:int = die1 + die2\n",
        "  print(f\"total of two dies: {total}\")\n",
        "\n",
        "def main():\n",
        "  die1:int = 10\n",
        "  print(\"die1 in main() start as:\" + str(die1))\n",
        "  roll_dice()\n",
        "  roll_dice()\n",
        "  roll_dice()\n",
        "  print(\"die1 in main() end as :\" + str(die1))\n",
        "\n",
        "if __name__ == \"__main__\":\n",
        "  import random\n",
        "  main()\n"
      ]
    },
    {
      "cell_type": "code",
      "source": [
        "print(\"02_e=mc2\")\n",
        "\n",
        "def energy():\n",
        "  c:int = float (299792458)\n",
        "  m:int = float(input(\"Enter Kilos of mass:\"))\n",
        "  print(\"e = m*c^2\")\n",
        "  print(\"Mass = \" + str(m) + \"kg\")\n",
        "  print(\"C =\" + str(c) + \"m/s\")\n",
        "  print(\"e =\" + str(m * c ** 2 ) + \"jules\")\n",
        "\n",
        "if __name__ == \"__main__\":\n",
        "  energy()"
      ],
      "metadata": {
        "colab": {
          "base_uri": "https://localhost:8080/"
        },
        "id": "tUKrvlsRkrnz",
        "outputId": "64a70936-3db9-4d11-a642-caca3b351461"
      },
      "execution_count": 11,
      "outputs": [
        {
          "output_type": "stream",
          "name": "stdout",
          "text": [
            "02_e=mc2\n",
            "Enter Kilos of mass:888\n",
            "e = m*c^2\n",
            "Mass = 888.0kg\n",
            "C =299792458.0m/s\n",
            "e =7.980945987182941e+19jules\n"
          ]
        }
      ]
    },
    {
      "cell_type": "code",
      "source": [
        "print(\"03_feet_to_inches\")\n",
        "\n",
        "inch: int = 12\n",
        "\n",
        "def foot():\n",
        "  feet:int = int(input(\"Enter feet and i will convert into inches.\"))\n",
        "  print(f'There are {inch * feet} inches in {feet} feet.')\n",
        "\n",
        "if __name__ == \"__main__\":\n",
        "  foot()"
      ],
      "metadata": {
        "colab": {
          "base_uri": "https://localhost:8080/"
        },
        "id": "T7js-xwsn8DH",
        "outputId": "6436e989-ce93-4f2a-c9de-b9145bbb7a0e"
      },
      "execution_count": 20,
      "outputs": [
        {
          "output_type": "stream",
          "name": "stdout",
          "text": [
            "03_feet_to_inches\n",
            "Enter feet and i will convert into inches.45\n",
            "There are 540 inches in 45 feet.\n"
          ]
        }
      ]
    },
    {
      "cell_type": "code",
      "source": [
        "import math\n",
        "print(\"04_pythagorean_theorem\")\n",
        "\n",
        "def triangle():\n",
        "  ab:float = float(input(\"Enter the length of side ab:\"))\n",
        "  ac:float = float(input(\"Enter the length of side ac:\"))\n",
        "  bc:float = math.sqrt(ab**2 + ac**2)\n",
        "  print(f'The length of side bc is {bc}')\n",
        "\n",
        "if __name__ == \"__main__\":\n",
        "  triangle()\n"
      ],
      "metadata": {
        "colab": {
          "base_uri": "https://localhost:8080/"
        },
        "id": "e6GYsFHV3pTb",
        "outputId": "feaedd61-09b8-433e-aac1-71062695a956"
      },
      "execution_count": 22,
      "outputs": [
        {
          "output_type": "stream",
          "name": "stdout",
          "text": [
            "04_pythagorean_theorem\n",
            "Enter the length of side ab:7\n",
            "Enter the length of side ac:8\n",
            "The length of side bc is 10.63014581273465\n"
          ]
        }
      ]
    },
    {
      "cell_type": "code",
      "source": [
        "print(\"05_remainder_division\")\n",
        "def reminder():\n",
        "  num1:int = int(input(\"Enter an inger to be divided: \"))\n",
        "  num2:int = int(input(\"Enter an inger to divide by:\"))\n",
        "  quotientu:int = num1 // num2\n",
        "  remainder:int = num1 % num2\n",
        "  print(f'{num1} divided by {num2} is {quotientu} with a remainder of {remainder}')\n",
        "\n",
        "if __name__ == \"__main__\":\n",
        "  reminder()"
      ],
      "metadata": {
        "colab": {
          "base_uri": "https://localhost:8080/"
        },
        "id": "4M-CRGWY4qe3",
        "outputId": "75023c9d-3b3f-4060-a64a-7c720da09623"
      },
      "execution_count": 26,
      "outputs": [
        {
          "output_type": "stream",
          "name": "stdout",
          "text": [
            "05_remainder_division\n",
            "Enter an inger to be divided: 45\n",
            "Enter an inger to divide by:2\n",
            "45 divided by 2 is 22 with a remainder of 1\n"
          ]
        }
      ]
    },
    {
      "cell_type": "code",
      "source": [
        "import random\n",
        "print(\"06_rolldice\")\n",
        "\n",
        "def dice():\n",
        "  die1:int = random.randint(1,6)\n",
        "  die2:int = random.randint(1,6)\n",
        "  total:int = die1 + die2\n",
        "  print(\"first die:\" + str(die1))\n",
        "  print(\"second die:\" + str(die2))\n",
        "  print(\"total:\" + str(total))\n",
        "\n",
        "if __name__ == \"__main__\":\n",
        "  dice()"
      ],
      "metadata": {
        "colab": {
          "base_uri": "https://localhost:8080/"
        },
        "id": "Hmxrs87L6TH0",
        "outputId": "3b20e466-b405-4964-c71d-5c67d0a8fa34"
      },
      "execution_count": 32,
      "outputs": [
        {
          "output_type": "stream",
          "name": "stdout",
          "text": [
            "06_rolldice\n",
            "first die:1\n",
            "second die:3\n",
            "total:4\n"
          ]
        }
      ]
    },
    {
      "cell_type": "code",
      "source": [
        "print(\"06_seconds_in_year\")\n",
        "\n",
        "days_in_year:int =365\n",
        "hourse_per_day:int = 24\n",
        "Minutes_per_day:int = 60\n",
        "seconds_per_day:int = 60\n",
        "\n",
        "def seconds():\n",
        "  print(f'There are {days_in_year * hourse_per_day * Minutes_per_day * seconds_per_day} seconds in a year.')\n",
        "\n",
        "if __name__ == \"__main__\":\n",
        "  seconds()\n"
      ],
      "metadata": {
        "colab": {
          "base_uri": "https://localhost:8080/"
        },
        "id": "-jDS2kku6_zo",
        "outputId": "1ff9ecdd-794a-4b33-e0a0-ba5b28e14a07"
      },
      "execution_count": 33,
      "outputs": [
        {
          "output_type": "stream",
          "name": "stdout",
          "text": [
            "06_seconds_in_year\n",
            "There are 31536000 seconds in a year.\n"
          ]
        }
      ]
    },
    {
      "cell_type": "code",
      "source": [
        "print(\"07_tiny_mad_lib\")\n",
        "def mad_lib():\n",
        "  noun:str = input(\"Enter a noun:\")\n",
        "  adjective:str = input(\"Enter an adjective:\")\n",
        "  verb:str = input(\"Enter a verb:\")\n",
        "  print(f'Do you {verb} your {adjective} {noun}?' )\n",
        "if __name__ == \"__main__\":\n",
        "  mad_lib()"
      ],
      "metadata": {
        "colab": {
          "base_uri": "https://localhost:8080/"
        },
        "id": "bp3bG_1n7wFa",
        "outputId": "2b31f16c-60ad-4b57-b36e-403dad16df81"
      },
      "execution_count": 35,
      "outputs": [
        {
          "output_type": "stream",
          "name": "stdout",
          "text": [
            "07_tiny_mad_lib\n",
            "Enter a noun:cat\n",
            "Enter an adjective:cute\n",
            "Enter a verb:sleep\n",
            "Do you sleep your cute cat?\n"
          ]
        }
      ]
    }
  ]
}