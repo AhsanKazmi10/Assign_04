{
  "nbformat": 4,
  "nbformat_minor": 0,
  "metadata": {
    "colab": {
      "provenance": [],
      "authorship_tag": "ABX9TyM66Uy/NmQ6j0Y+1+cHhKaL",
      "include_colab_link": true
    },
    "kernelspec": {
      "name": "python3",
      "display_name": "Python 3"
    },
    "language_info": {
      "name": "python"
    }
  },
  "cells": [
    {
      "cell_type": "markdown",
      "metadata": {
        "id": "view-in-github",
        "colab_type": "text"
      },
      "source": [
        "<a href=\"https://colab.research.google.com/github/AhsanKazmi10/Assign_04/blob/main/03_if_statements.ipynb\" target=\"_parent\"><img src=\"https://colab.research.google.com/assets/colab-badge.svg\" alt=\"Open In Colab\"/></a>"
      ]
    },
    {
      "cell_type": "code",
      "execution_count": 1,
      "metadata": {
        "colab": {
          "base_uri": "https://localhost:8080/"
        },
        "id": "2JqHPL4tS95q",
        "outputId": "68f56388-391d-477b-b43b-99765a31c546"
      },
      "outputs": [
        {
          "output_type": "stream",
          "name": "stdout",
          "text": [
            "01_print_events\n",
            "Here is 20 even number are: 0\n",
            "Here is 20 even number are: 2\n",
            "Here is 20 even number are: 4\n",
            "Here is 20 even number are: 6\n",
            "Here is 20 even number are: 8\n",
            "Here is 20 even number are: 10\n",
            "Here is 20 even number are: 12\n",
            "Here is 20 even number are: 14\n",
            "Here is 20 even number are: 16\n",
            "Here is 20 even number are: 18\n",
            "Here is 20 even number are: 20\n",
            "Here is 20 even number are: 22\n",
            "Here is 20 even number are: 24\n",
            "Here is 20 even number are: 26\n",
            "Here is 20 even number are: 28\n",
            "Here is 20 even number are: 30\n",
            "Here is 20 even number are: 32\n",
            "Here is 20 even number are: 34\n",
            "Here is 20 even number are: 36\n",
            "Here is 20 even number are: 38\n",
            "Here is 20 even number are: 40\n",
            "Here is 20 even number are: 42\n",
            "Here is 20 even number are: 44\n",
            "Here is 20 even number are: 46\n",
            "Here is 20 even number are: 48\n",
            "Here is 20 even number are: 50\n",
            "Here is 20 even number are: 52\n",
            "Here is 20 even number are: 54\n",
            "Here is 20 even number are: 56\n",
            "Here is 20 even number are: 58\n",
            "Here is 20 even number are: 60\n",
            "Here is 20 even number are: 62\n",
            "Here is 20 even number are: 64\n",
            "Here is 20 even number are: 66\n",
            "Here is 20 even number are: 68\n",
            "Here is 20 even number are: 70\n",
            "Here is 20 even number are: 72\n",
            "Here is 20 even number are: 74\n",
            "Here is 20 even number are: 76\n",
            "Here is 20 even number are: 78\n"
          ]
        }
      ],
      "source": [
        "print(\"01_print_events\")\n",
        "def even():\n",
        "  for i in range(40):\n",
        "    print(\"Here is 20 even number are:\", i * 2)\n",
        "\n",
        "if __name__ == \"__main__\":\n",
        "  even()"
      ]
    },
    {
      "cell_type": "code",
      "source": [
        "print(\"02_international_voting_age\")\n",
        "Peturksbouipo:int = 16\n",
        "Stanlau:int = 25\n",
        "Mayengua:int = 48\n",
        "age:int = int(input(\"Enter your age: \"))\n",
        "\n",
        "def main():\n",
        "\n",
        "  if age >= Peturksbouipo:\n",
        "    print(f\"You are age is {age} eligible to vote in Peturksbouipo\")\n",
        "  else:\n",
        "    print(f\"You are age is {age} not eligible to vote in Peturksbouipo\")\n",
        "\n",
        "\n",
        "if age >= Stanlau:\n",
        "  print(f\"You are age is {age} eligible to vote in Stanlau\")\n",
        "else:\n",
        "  print(f\"You are age is {age} not eligible to vote in Stanlau\")\n",
        "\n",
        "\n",
        "if age >= Mayengua:\n",
        "  print(f\"You are age is {age} eligible to vote in Mayengua\")\n",
        "else:\n",
        "  print(f\"You are age is {age} not eligible to vote in Mayengua\")\n",
        "\n",
        "\n",
        "\n",
        "if __name__ == \"__main__\":\n",
        "  main()"
      ],
      "metadata": {
        "colab": {
          "base_uri": "https://localhost:8080/"
        },
        "id": "tRsp4naGUmbm",
        "outputId": "c4bdb919-0c8c-465f-e07f-4b1b3cb6e275"
      },
      "execution_count": 4,
      "outputs": [
        {
          "output_type": "stream",
          "name": "stdout",
          "text": [
            "02_international_voting_age\n",
            "Enter your age: 21\n",
            "You are age is 21 not eligible to vote in Stanlau\n",
            "You are age is 21 not eligible to vote in Mayengua\n",
            "You are age is 21 eligible to vote in Peturksbouipo\n"
          ]
        }
      ]
    },
    {
      "cell_type": "code",
      "source": [
        "print(\"03_leap_year\")\n",
        "\n",
        "def leap_year():\n",
        "  year:int = int(input(\"Enter a year: \"))\n",
        "\n",
        "  if year % 4 == 0:\n",
        "    if year % 100 == 0:\n",
        "      if year % 400 == 0:\n",
        "        print(f\"{year} is not a leap year\")\n",
        "      else:\n",
        "        print(f\"{year} is a leap year\")\n",
        "    else:\n",
        "      print(f\"{year} is a leap year\")\n",
        "  else:\n",
        "    print(f\"{year} is not a leap year\")\n",
        "\n",
        "\n",
        "if __name__ == \"__main__\":\n",
        "  leap_year()\n"
      ],
      "metadata": {
        "colab": {
          "base_uri": "https://localhost:8080/"
        },
        "id": "6fFEqtL2XZA8",
        "outputId": "c3ff655a-70e4-4ec6-b4dc-403a0496f2b7"
      },
      "execution_count": 7,
      "outputs": [
        {
          "output_type": "stream",
          "name": "stdout",
          "text": [
            "03_leap_year\n",
            "Enter a year: 2024\n",
            "2024 is a leap year\n"
          ]
        }
      ]
    },
    {
      "cell_type": "code",
      "source": [
        "print(\"04_tall_enough_to_ride\")\n",
        "\n",
        "min_hight:int = 50\n",
        "def main():\n",
        "  user:int = int(input(\"How tall are you: \"))\n",
        "  if user >= min_hight:\n",
        "    print(\"You are tall enough to ride\")\n",
        "  else:\n",
        "    print(\"You are not tall enough to ride, may be next time\")\n",
        "\n",
        "if __name__ == \"__main__\":\n",
        "  main()\n"
      ],
      "metadata": {
        "colab": {
          "base_uri": "https://localhost:8080/"
        },
        "id": "kFnECx6SYVI4",
        "outputId": "27a9a5e7-8643-423b-86f3-72297657e694"
      },
      "execution_count": 8,
      "outputs": [
        {
          "output_type": "stream",
          "name": "stdout",
          "text": [
            "04_tall_enough_to_ride\n",
            "How tall are you: 21\n",
            "You are not tall enough to ride, may be next time\n"
          ]
        }
      ]
    },
    {
      "cell_type": "code",
      "source": [
        "import random\n",
        "\n",
        "def main():\n",
        "  for i in range(10):\n",
        "    num:list[int] = random.randint(1,100)\n",
        "    print(num)\n",
        "\n",
        "\n",
        "if __name__ == \"__main__\":\n",
        "  main()"
      ],
      "metadata": {
        "colab": {
          "base_uri": "https://localhost:8080/"
        },
        "id": "6IrPAyOZZX2k",
        "outputId": "9ad51f1e-e919-4629-d7ac-e1288cd24461"
      },
      "execution_count": 11,
      "outputs": [
        {
          "output_type": "stream",
          "name": "stdout",
          "text": [
            "87\n",
            "87\n",
            "91\n",
            "40\n",
            "43\n",
            "57\n",
            "76\n",
            "1\n",
            "79\n",
            "89\n"
          ]
        }
      ]
    }
  ]
}