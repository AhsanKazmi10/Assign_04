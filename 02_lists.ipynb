{
  "nbformat": 4,
  "nbformat_minor": 0,
  "metadata": {
    "colab": {
      "provenance": [],
      "authorship_tag": "ABX9TyM2oSNGswL/2cmeSgppQjdb",
      "include_colab_link": true
    },
    "kernelspec": {
      "name": "python3",
      "display_name": "Python 3"
    },
    "language_info": {
      "name": "python"
    }
  },
  "cells": [
    {
      "cell_type": "markdown",
      "metadata": {
        "id": "view-in-github",
        "colab_type": "text"
      },
      "source": [
        "<a href=\"https://colab.research.google.com/github/AhsanKazmi10/Assign_04/blob/main/02_lists.ipynb\" target=\"_parent\"><img src=\"https://colab.research.google.com/assets/colab-badge.svg\" alt=\"Open In Colab\"/></a>"
      ]
    },
    {
      "cell_type": "code",
      "execution_count": 2,
      "metadata": {
        "colab": {
          "base_uri": "https://localhost:8080/"
        },
        "id": "SHPsyR6_uM8P",
        "outputId": "29338e5a-0078-46bd-e1ef-95a0f4ebbe53"
      },
      "outputs": [
        {
          "output_type": "stream",
          "name": "stdout",
          "text": [
            "01_add_many_number\n",
            "15\n"
          ]
        }
      ],
      "source": [
        "print(\"01_add_many_number\")\n",
        "\n",
        "def add_number(numbers)->int:\n",
        "  num:int = 0\n",
        "  for i in numbers:\n",
        "    num += i\n",
        "  return num\n",
        "\n",
        "def man():\n",
        "  numbers:list[int] = [1,2,3,4,5]\n",
        "  sum = add_number(numbers)\n",
        "  print(sum)\n",
        "\n",
        "if __name__ == \"__main__\":\n",
        "  man()"
      ]
    },
    {
      "cell_type": "code",
      "source": [
        "print(\"02_double_list\")\n",
        "def main():\n",
        "  numbers:list[int] = [1,2,3,4,5]\n",
        "  for i in range(len(numbers)):\n",
        "    index = numbers[i]\n",
        "    numbers[i] = index * 2\n",
        "  print(numbers)\n",
        "\n",
        "\n",
        "\n",
        "if __name__ == \"__main__\":\n",
        "  main()"
      ],
      "metadata": {
        "colab": {
          "base_uri": "https://localhost:8080/"
        },
        "id": "mLIwUqbOxVnL",
        "outputId": "b30a5d34-f52d-4057-cbaa-e6534881f1d5"
      },
      "execution_count": 3,
      "outputs": [
        {
          "output_type": "stream",
          "name": "stdout",
          "text": [
            "02_double_list\n",
            "[2, 4, 6, 8, 10]\n"
          ]
        }
      ]
    },
    {
      "cell_type": "code",
      "source": [
        "print(\"04_flowing_with_data_structures\")\n",
        "\n",
        "def add_three_copies(lst,data):\n",
        "  for i in range(3):\n",
        "    lst.append(data)\n",
        "\n",
        "def main():\n",
        "    message = input(\"Enter a massage to copy.\")\n",
        "    lst =[]\n",
        "    add_three_copies(lst,message)\n",
        "    print(\"After lst:\",lst)\n",
        "\n",
        "if __name__ == \"__main__\":\n",
        "  main()"
      ],
      "metadata": {
        "colab": {
          "base_uri": "https://localhost:8080/"
        },
        "id": "klki3POwzQV3",
        "outputId": "0110090d-dd0f-4486-9334-1434d0140e30"
      },
      "execution_count": 5,
      "outputs": [
        {
          "output_type": "stream",
          "name": "stdout",
          "text": [
            "04_flowing_with_data_structures\n",
            "Enter a massage to copy.jjjj\n",
            "After lst: ['jjjj', 'jjjj', 'jjjj']\n"
          ]
        }
      ]
    },
    {
      "cell_type": "code",
      "source": [
        "print(\"05_get_first_element\")\n",
        "\n",
        "def get_first_element(lst):\n",
        "  print(lst[0])\n",
        "\n",
        "def get_lst():\n",
        "  lst = []\n",
        "  elem:str = input(\"enter an element to add to the list. \")\n",
        "  while elem != \"\":\n",
        "    lst.append(elem)\n",
        "    elem = input(\"enter an element to add to the list. \")\n",
        "  return lst\n",
        "def main():\n",
        "      lst = get_lst()\n",
        "      get_first_element(lst)\n",
        "\n",
        "\n",
        "if __name__ == \"__main__\":\n",
        "     main()"
      ],
      "metadata": {
        "colab": {
          "base_uri": "https://localhost:8080/"
        },
        "id": "vwmQHVA01VWq",
        "outputId": "86465699-4d10-4a65-a4c1-be47cd4f2fca"
      },
      "execution_count": 9,
      "outputs": [
        {
          "output_type": "stream",
          "name": "stdout",
          "text": [
            "05_get_first_element\n",
            "enter an element to add to the list. i\n",
            "enter an element to add to the list. i\n",
            "enter an element to add to the list. o\n",
            "enter an element to add to the list. k\n",
            "enter an element to add to the list. j\n",
            "enter an element to add to the list. h\n",
            "enter an element to add to the list. \n",
            "i\n"
          ]
        }
      ]
    },
    {
      "cell_type": "code",
      "source": [
        "print(\"06_get_last_element\")\n",
        "\n",
        "def get_last_element(lst):\n",
        "  print(lst[-1])\n",
        "\n",
        "def get_lst():\n",
        "  lst = []\n",
        "  elem:str = input(\"enter an element to add to the list. \")\n",
        "  while elem != \"\":\n",
        "    lst.append(elem)\n",
        "    elem = input(\"enter an element to add to the list. \")\n",
        "  return lst\n",
        "\n",
        "def main():\n",
        "      lst = get_lst()\n",
        "      get_last_element(lst)\n",
        "\n",
        "\n",
        "if __name__ == \"__main__\":\n",
        "     main()"
      ],
      "metadata": {
        "colab": {
          "base_uri": "https://localhost:8080/"
        },
        "id": "WFhnUQcQKa-n",
        "outputId": "3371336e-c157-4d22-f599-127ecccdaddf"
      },
      "execution_count": 10,
      "outputs": [
        {
          "output_type": "stream",
          "name": "stdout",
          "text": [
            "06_get_last_element\n",
            "enter an element to add to the list. o\n",
            "enter an element to add to the list. p\n",
            "enter an element to add to the list. j\n",
            "enter an element to add to the list. k\n",
            "enter an element to add to the list. \n",
            "k\n"
          ]
        }
      ]
    },
    {
      "cell_type": "code",
      "source": [
        "print(\"07_get_list\")\n",
        "\n",
        "def main():\n",
        "  lst = []\n",
        "  val:str = input(\"enter an element to add to the list. \")\n",
        "  while val:\n",
        "    lst.append(val)\n",
        "    val = input(\"enter an element to add to the list. \")\n",
        "  print(\"Here's the list\",lst)\n",
        "\n",
        "if __name__ == \"__main__\":\n",
        "  main()\n"
      ],
      "metadata": {
        "colab": {
          "base_uri": "https://localhost:8080/"
        },
        "id": "j4AvgV7kVT4w",
        "outputId": "e46a5fd9-c9ed-45a5-b2f0-044655e717ff"
      },
      "execution_count": 12,
      "outputs": [
        {
          "output_type": "stream",
          "name": "stdout",
          "text": [
            "07_get_list\n",
            "enter an element to add to the list. ahsan \n",
            "enter an element to add to the list. abbas\n",
            "enter an element to add to the list. kazmi\n",
            "enter an element to add to the list. \n",
            "Here's the list ['ahsan ', 'abbas', 'kazmi']\n"
          ]
        }
      ]
    },
    {
      "cell_type": "code",
      "source": [
        "print(\"08_shorten\")\n",
        "\n",
        "MAX_LENGTH = 0\n",
        "\n",
        "def shorten(lst):\n",
        "    while len(lst) > MAX_LENGTH:\n",
        "        last_element = lst.pop()\n",
        "        print(last_element)\n",
        "\n",
        "def get_lst():\n",
        "    lst = []\n",
        "    element = input(\"Please enter an element of the list or press enter to stop: \")\n",
        "    while element != \"\":\n",
        "        lst.append(element)\n",
        "        element = input(\"Please enter an element of the list or press enter to stop: \")\n",
        "    return lst\n",
        "\n",
        "def main():\n",
        "    lst = get_lst()\n",
        "    shorten(lst)\n",
        "\n",
        "if __name__ == '__main__':\n",
        "    main()\n"
      ],
      "metadata": {
        "colab": {
          "base_uri": "https://localhost:8080/"
        },
        "id": "oNNkTrJhXpk8",
        "outputId": "3532015f-30fe-4f0c-bac8-2c9565d4da61"
      },
      "execution_count": 21,
      "outputs": [
        {
          "output_type": "stream",
          "name": "stdout",
          "text": [
            "08_shorten\n",
            "Please enter an element of the list or press enter to stop: o\n",
            "Please enter an element of the list or press enter to stop: o\n",
            "Please enter an element of the list or press enter to stop: p\n",
            "Please enter an element of the list or press enter to stop: \n",
            "p\n",
            "o\n",
            "o\n"
          ]
        }
      ]
    }
  ]
}