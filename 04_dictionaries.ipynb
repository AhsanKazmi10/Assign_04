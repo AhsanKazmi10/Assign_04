{
  "nbformat": 4,
  "nbformat_minor": 0,
  "metadata": {
    "colab": {
      "provenance": [],
      "authorship_tag": "ABX9TyPgDBpdYcJXEBgeTVdGuCD5",
      "include_colab_link": true
    },
    "kernelspec": {
      "name": "python3",
      "display_name": "Python 3"
    },
    "language_info": {
      "name": "python"
    }
  },
  "cells": [
    {
      "cell_type": "markdown",
      "metadata": {
        "id": "view-in-github",
        "colab_type": "text"
      },
      "source": [
        "<a href=\"https://colab.research.google.com/github/AhsanKazmi10/Assign_04/blob/main/04_dictionaries.ipynb\" target=\"_parent\"><img src=\"https://colab.research.google.com/assets/colab-badge.svg\" alt=\"Open In Colab\"/></a>"
      ]
    },
    {
      "cell_type": "code",
      "execution_count": null,
      "metadata": {
        "colab": {
          "base_uri": "https://localhost:8080/"
        },
        "id": "SZOrywE_bDHX",
        "outputId": "81e9e8ad-a30a-4c97-e17d-b6e739abcaac"
      },
      "outputs": [
        {
          "output_type": "stream",
          "name": "stdout",
          "text": [
            "00_count_nums\n",
            "Enter a number (or type 'Exit' to quit): 6\n",
            "Enter a number (or type 'Exit' to quit): 6\n",
            "Enter a number (or type 'Exit' to quit): 7\n",
            "Enter a number (or type 'Exit' to quit): 8\n",
            "Enter a number (or type 'Exit' to quit): 7\n",
            "Enter a number (or type 'Exit' to quit): \n",
            "Invalid input. Please enter a number or 'Exit' to quit.\n",
            "Enter a number (or type 'Exit' to quit): \n",
            "Invalid input. Please enter a number or 'Exit' to quit.\n",
            "Enter a number (or type 'Exit' to quit): exit\n",
            "\n",
            "Number Counts:\n",
            "6 appears 2 times\n",
            "7 appears 2 times\n",
            "8 appears 1 times\n"
          ]
        }
      ],
      "source": [
        "print(\"00_count_nums\")\n",
        "\n",
        "def count_numbers():\n",
        "    count_dict = {}\n",
        "\n",
        "    while True:\n",
        "        user_input = input(\"Enter a number (or type 'Exit' to quit): \")\n",
        "        if user_input.strip().lower() == 'exit':\n",
        "            break\n",
        "        if user_input.isdigit():\n",
        "            num = int(user_input)\n",
        "            count_dict[num] = count_dict.get(num, 0) + 1\n",
        "        else:\n",
        "            print(\"Invalid input. Please enter a number or 'Exit' to quit.\")\n",
        "\n",
        "    return count_dict\n",
        "\n",
        "def display_counts(count_dict):\n",
        "    print(\"\\nNumber Counts:\")\n",
        "    for key, value in count_dict.items():\n",
        "        print(f\"{key} appears {value} times\")\n",
        "\n",
        "if __name__ == \"__main__\":\n",
        "    counts = count_numbers()\n",
        "    display_counts(counts)\n"
      ]
    },
    {
      "cell_type": "code",
      "source": [
        "from os import chown\n",
        "print(\"01_phonebook\")\n",
        "\n",
        "def add_contact(phonebook):\n",
        "    name = input(\"Enter the name: \")\n",
        "    number = input(\"Enter the phone number: \")\n",
        "\n",
        "    if name in phonebook:\n",
        "        print(f\"{name}  already exists in the phonebook\")\n",
        "    else:\n",
        "        phonebook[name] = number\n",
        "        print(f\"Contact '{name}' added successfully.\")\n",
        "\n",
        "def search_contact(phonebook):\n",
        "    name = input(\"Enter the name to search: \")\n",
        "\n",
        "    if name in phonebook:\n",
        "        print(f\"Phone number for {name}: {phonebook[name]}\")\n",
        "    else:\n",
        "        print(f\"Contact '{name}' not found in the phonebook.\")\n",
        "\n",
        "\n",
        "def delete_contact(phonebook):\n",
        "    name = input(\"Enter the name to delete: \")\n",
        "\n",
        "    if name in phonebook:\n",
        "        del phonebook[name]\n",
        "        print(f\"Contact '{name}' deleted successfully.\")\n",
        "    else:\n",
        "        print(f\"Contact '{name}' not found in the phonebook.\")\n",
        "\n",
        "\n",
        "def display_contacts(phonebook):\n",
        "    if phonebook:\n",
        "        print(\"\\nPhonebook Contacts list:\")\n",
        "        for name, number in phonebook.items():\n",
        "            print(f\"{name}: {number}\")\n",
        "    else:\n",
        "        print(\"Phonebook is empty.\")\n",
        "\n",
        "\n",
        "if __name__ == \"__main__\":\n",
        "    phonebook = {}\n",
        "\n",
        "\n",
        "while True:\n",
        "        print(\"\\nPhonebook Menu:\")\n",
        "        print(\"1. Add Contact\")\n",
        "        print(\"2. Search Contact\")\n",
        "        print(\"3. Delete Contact\")\n",
        "        print(\"4. Display Contacts\")\n",
        "        print(\"5. Exit\")\n",
        "\n",
        "\n",
        "        choice = input(\"Enter your choice (1-5): \")\n",
        "\n",
        "        if choice == '1':\n",
        "            add_contact(phonebook)\n",
        "        elif choice == '2':\n",
        "            search_contact(phonebook)\n",
        "        elif choice == '3':\n",
        "            delete_contact(phonebook)\n",
        "        elif choice == '4':\n",
        "            display_contacts(phonebook)\n",
        "        elif choice == '5':\n",
        "            print(\"Exiting Phonebook. Goodbye!\")\n",
        "            break\n",
        "        else:\n",
        "            print(\"Invalid choice. Please enter a number between 1 and 5.\")\n"
      ],
      "metadata": {
        "colab": {
          "base_uri": "https://localhost:8080/"
        },
        "id": "jRc4t3zLf59o",
        "outputId": "6d222459-293e-425e-f12b-8578f8f9b021"
      },
      "execution_count": null,
      "outputs": [
        {
          "output_type": "stream",
          "name": "stdout",
          "text": [
            "01_phonebook\n",
            "\n",
            "Phonebook Menu:\n",
            "1. Add Contact\n",
            "2. Search Contact\n",
            "3. Delete Contact\n",
            "4. Display Contacts\n",
            "5. Exit\n",
            "Enter your choice (1-5): 1\n",
            "Enter the name: ahsan\n",
            "Enter the phone number: 123456789\n",
            "Contact 'ahsan' added successfully.\n",
            "\n",
            "Phonebook Menu:\n",
            "1. Add Contact\n",
            "2. Search Contact\n",
            "3. Delete Contact\n",
            "4. Display Contacts\n",
            "5. Exit\n",
            "Enter your choice (1-5): 2\n",
            "Enter the name to search: ahsan\n",
            "Phone number for ahsan: 123456789\n",
            "\n",
            "Phonebook Menu:\n",
            "1. Add Contact\n",
            "2. Search Contact\n",
            "3. Delete Contact\n",
            "4. Display Contacts\n",
            "5. Exit\n",
            "Enter your choice (1-5): 3\n",
            "Enter the name to delete: ahsan\n",
            "Contact 'ahsan' deleted successfully.\n",
            "\n",
            "Phonebook Menu:\n",
            "1. Add Contact\n",
            "2. Search Contact\n",
            "3. Delete Contact\n",
            "4. Display Contacts\n",
            "5. Exit\n",
            "Enter your choice (1-5): 4\n",
            "Phonebook is empty.\n",
            "\n",
            "Phonebook Menu:\n",
            "1. Add Contact\n",
            "2. Search Contact\n",
            "3. Delete Contact\n",
            "4. Display Contacts\n",
            "5. Exit\n",
            "Enter your choice (1-5): 5\n",
            "Exiting Phonebook. Goodbye!\n"
          ]
        }
      ]
    },
    {
      "cell_type": "code",
      "source": [
        "print(\"02_pop_up_shop\")\n",
        "\n",
        "def calculate_total_cost():\n",
        "  fruits_price = {\n",
        "      \"apple\":5.0,\n",
        "      \"mango\":15.0,\n",
        "      \"kiwi\":8.0,\n",
        "      \"pear\":12.0,\n",
        "      \"banana\":6.0,\n",
        "      \"orange\":10.0\n",
        "  }\n",
        "\n",
        "  total_cost = 0\n",
        "\n",
        "  for fruit,price in fruits_price.items():\n",
        "    while True:\n",
        "      try:\n",
        "        quantity = int(input(f\"Enter the quantity of {fruit}s: \"))\n",
        "        if quantity < 0 :\n",
        "          print(\"Invalid input. Please enter a non-negative quantity.\")\n",
        "          continue\n",
        "        total_cost += price * quantity\n",
        "        break\n",
        "      except ValueError:\n",
        "        print(\"Invalid input. Please enter a valid quantity.\")\n",
        "\n",
        "    1\n",
        "    print(f\"Total cost of fruits: ${total_cost:.2f}\")\n",
        "\n",
        "if __name__ == \"__main__\":\n",
        "  calculate_total_cost()\n",
        "\n"
      ],
      "metadata": {
        "colab": {
          "base_uri": "https://localhost:8080/"
        },
        "id": "XmebQ6WBiwg_",
        "outputId": "00b97f91-0209-4bb8-c211-af8fbc0148f6"
      },
      "execution_count": null,
      "outputs": [
        {
          "output_type": "stream",
          "name": "stdout",
          "text": [
            "02_pop_up_shop\n",
            "Enter the quantity of apples: 6\n",
            "Total cost of fruits: $30.00\n",
            "Enter the quantity of mangos: 7\n",
            "Total cost of fruits: $135.00\n",
            "Enter the quantity of kiwis: 8\n",
            "Total cost of fruits: $199.00\n",
            "Enter the quantity of pears: 5\n",
            "Total cost of fruits: $259.00\n",
            "Enter the quantity of bananas: 4\n",
            "Total cost of fruits: $283.00\n",
            "Enter the quantity of oranges: 3\n",
            "Total cost of fruits: $313.00\n"
          ]
        }
      ]
    },
    {
      "cell_type": "code",
      "source": [
        "import hashlib\n",
        "print(\"03_powerful_passwords\")\n",
        "\n",
        "def hash_password(password):\n",
        "    return hashlib.sha256(password.encode()).hexdigest()\n",
        "\n",
        "stored_logins = {\n",
        "    \"user@example.com\": hash_password(\"\n",
        "    \"),\n",
        "    \"admin@example.com\": hash_password(\"adminpass\")\n",
        "}\n",
        "\n",
        "def login(email,password):\n",
        "    if email in stored_logins :\n",
        "      return stored_logins[email]== hash_password(password)\n",
        "    return False\n",
        "\n",
        "if __name__ == \"__main__\":\n",
        "  email = input(\"Enter your email\")\n",
        "  password = input(\"Enter your password \")\n",
        "\n",
        "  if login(email,password):\n",
        "    print(\"login successfuly\")\n",
        "  else:\n",
        "    print(\"Invalid email or password \")"
      ],
      "metadata": {
        "id": "nBUW_cx8rBpv",
        "colab": {
          "base_uri": "https://localhost:8080/"
        },
        "outputId": "53e96ceb-b564-419c-c73f-e3984ef6bbaa"
      },
      "execution_count": null,
      "outputs": [
        {
          "output_type": "stream",
          "name": "stdout",
          "text": [
            "03_powerful_passwords\n",
            "Enter your emailuser@example.com\n",
            "Enter your password password123\n",
            "login successfuly\n"
          ]
        }
      ]
    }
  ]
}