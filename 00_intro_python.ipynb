{
  "nbformat": 4,
  "nbformat_minor": 0,
  "metadata": {
    "colab": {
      "provenance": [],
      "authorship_tag": "ABX9TyPmNF4gi0mQUJePPey/+OHO",
      "include_colab_link": true
    },
    "kernelspec": {
      "name": "python3",
      "display_name": "Python 3"
    },
    "language_info": {
      "name": "python"
    }
  },
  "cells": [
    {
      "cell_type": "markdown",
      "metadata": {
        "id": "view-in-github",
        "colab_type": "text"
      },
      "source": [
        "<a href=\"https://colab.research.google.com/github/AhsanKazmi10/Assign_04/blob/main/00_intro_python.ipynb\" target=\"_parent\"><img src=\"https://colab.research.google.com/assets/colab-badge.svg\" alt=\"Open In Colab\"/></a>"
      ]
    },
    {
      "cell_type": "code",
      "execution_count": null,
      "metadata": {
        "colab": {
          "base_uri": "https://localhost:8080/"
        },
        "id": "veguv9NUI6rT",
        "outputId": "15804b0c-09e9-421a-d4c5-c14b648753e0"
      },
      "outputs": [
        {
          "output_type": "stream",
          "name": "stdout",
          "text": [
            "01_add_two_numbers\n",
            "This application for add two numbers.\n",
            "Enter your first number.3\n",
            "Enter your second number.4\n",
            "The total sum of 3 and 4 is 7\n"
          ]
        }
      ],
      "source": [
        "print(\"01_add_two_numbers\")\n",
        "def add():\n",
        "   print(\"This application for add two numbers.\")\n",
        "   first_number =  int(input(\"Enter your first number.\"))\n",
        "   second_number = int(input(\"Enter your second number.\"))\n",
        "   total = int(first_number + second_number)\n",
        "   print(f'The total sum of {first_number} and {second_number} is {total}')\n",
        "\n",
        "if __name__ == \"__main__\":\n",
        " add()"
      ]
    },
    {
      "cell_type": "code",
      "source": [
        "print(\"02_agreement_bot\")\n",
        "def bot():\n",
        "  animal = str(input(\" what their favorite animal is? \"))\n",
        "  print(f'My favorite animal is also {animal}')\n",
        "\n",
        "if __name__ == \"__main__\":\n",
        "  bot()"
      ],
      "metadata": {
        "colab": {
          "base_uri": "https://localhost:8080/"
        },
        "id": "_12DX8M7OXI4",
        "outputId": "4cee6f1b-cc63-4e34-a548-94bcac56933c"
      },
      "execution_count": null,
      "outputs": [
        {
          "output_type": "stream",
          "name": "stdout",
          "text": [
            "02_agreement_bot\n",
            " what their favorite animal is? cat\n",
            "My favorite animal is also cat\n"
          ]
        }
      ]
    },
    {
      "cell_type": "code",
      "source": [
        "print(\"03_fahrenheit_to_celsius\")\n",
        "\n",
        "def tem():\n",
        "  print(\"this application for convert fahrenheit to celsius\")\n",
        "  fahrenheit_degree = float(input(\"Enter your fahrenheit degree.\"))\n",
        "  celsius_degree = (fahrenheit_degree - 32) * 5.0/9.0\n",
        "  print(f'Temperature {fahrenheit_degree} F = {celsius_degree} C')\n",
        "\n",
        "if __name__ == \"__main__\":\n",
        "  tem()"
      ],
      "metadata": {
        "colab": {
          "base_uri": "https://localhost:8080/"
        },
        "id": "A6JjUM1rQfy6",
        "outputId": "2898fb99-10b7-4bb0-c0f1-5d6de814fcda"
      },
      "execution_count": null,
      "outputs": [
        {
          "output_type": "stream",
          "name": "stdout",
          "text": [
            "03_fahrenheit_to_celsius\n",
            "this application for convert fahrenheit to celsius\n",
            "Enter your fahrenheit degree.55\n",
            "Temperature 55.0F = 12.777777777777779C\n"
          ]
        }
      ]
    },
    {
      "cell_type": "code",
      "source": [
        "\n",
        "print(\"04_how_old_are_they\")\n",
        "def add_ages():\n",
        "  anthon:int = 21\n",
        "  beth:int = anthon + 6\n",
        "  chen:int = beth + 20\n",
        "  drew:int = chen + anthon\n",
        "  ethan:int = chen\n",
        "\n",
        "  print(\"Anton is \" + str(anthon) )\n",
        "  print(\"Beth is \" + str(beth) )\n",
        "  print(\"Chen is \" + str(chen) )\n",
        "  print(\"Drew is \" + str(drew) )\n",
        "  print(\"Ethan is \" + str(ethan) )\n",
        "\n",
        "if __name__ == \"__main__\":\n",
        "  add_ages()"
      ],
      "metadata": {
        "colab": {
          "base_uri": "https://localhost:8080/"
        },
        "id": "IpcdsC6kSFSR",
        "outputId": "838cd9a0-a932-4bd8-afb4-33db6b6efbd6"
      },
      "execution_count": null,
      "outputs": [
        {
          "output_type": "stream",
          "name": "stdout",
          "text": [
            "04_how_old_are_they\n",
            "Anton is 21\n",
            "Beth is 27\n",
            "Chen is 47\n",
            "Drew is 68\n",
            "Ethan is 47\n"
          ]
        }
      ]
    },
    {
      "cell_type": "code",
      "source": [
        "print(\"05_triangle_perimeter\")\n",
        "\n",
        "def triangle():\n",
        "  print(\"This code is about sum of triangle sides.\")\n",
        "  side1:float = float(input(\"Enter your first side no of triangle .\"))\n",
        "  side2:float = float(input(\"Enter your second side no of triangle .\"))\n",
        "  side3:float = float(input(\"Enter your third side no of triangle .\"))\n",
        "  total:float = float(side1 + side2 + side3)\n",
        "  print(f'The sum of {side1}, {side2} and {side3} is {total}')\n",
        "\n",
        "if __name__ == \"__main__\":\n",
        "  triangle()"
      ],
      "metadata": {
        "colab": {
          "base_uri": "https://localhost:8080/"
        },
        "id": "q-v2avyeU_aX",
        "outputId": "a82a87cd-6877-4e8b-ddb5-e887ab79b961"
      },
      "execution_count": null,
      "outputs": [
        {
          "output_type": "stream",
          "name": "stdout",
          "text": [
            "05_triangle_perimeter\n",
            "This code is about sum of triangle sides.\n",
            "Enter your first side no of triangle .8\n",
            "Enter your second side no of triangle .9\n",
            "Enter your third side no of triangle .0\n",
            "The sum of 8.0, 9.0 and 0.0 is 17.0\n"
          ]
        }
      ]
    },
    {
      "cell_type": "code",
      "source": [
        "print('06_square_number')\n",
        "\n",
        "def square():\n",
        "  print(\"This code is about Square of given number\")\n",
        "  num1:int = int(input(\"Enter any number and i will give u a square value.\"))\n",
        "  print(f'The square of {num1} is {num1 ** 2}')\n",
        "\n",
        "if __name__ == \"__main__\":\n",
        "  square()\n"
      ],
      "metadata": {
        "colab": {
          "base_uri": "https://localhost:8080/"
        },
        "id": "_8ytU3ugXJi4",
        "outputId": "01c2d8ce-0079-4f18-e21a-8ecf3e9f8bd0"
      },
      "execution_count": null,
      "outputs": [
        {
          "output_type": "stream",
          "name": "stdout",
          "text": [
            "06_square_number\n",
            "This code is about Square of given number\n",
            "Enter any number and i will give u a square value.25\n",
            "The square of 25 is 625\n"
          ]
        }
      ]
    }
  ]
}